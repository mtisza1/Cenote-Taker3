{
 "cells": [
  {
   "cell_type": "code",
   "execution_count": 1,
   "metadata": {},
   "outputs": [],
   "source": [
    "import pandas as pd\n",
    "import os\n",
    "import sys"
   ]
  },
  {
   "cell_type": "code",
   "execution_count": 15,
   "metadata": {},
   "outputs": [],
   "source": [
    "virion_count_file = \"/Users/michaeltisza/mike_tisza/sandbox/ct3_test1c/ct2_tmp/split_orig_pyhmmer/contig_hit_count.tsv\"\n",
    "\n",
    "\n",
    "rep_count_file = \"/Users/michaeltisza/mike_tisza/sandbox/ct3_test1b/ct2_tmp/split_orig_pyhmmer/contig_hit_count.tsv\"\n",
    "\n",
    "hallmark_count = 2\n",
    "\n",
    "hallmark_type = 'virion'"
   ]
  },
  {
   "cell_type": "code",
   "execution_count": 17,
   "metadata": {},
   "outputs": [],
   "source": [
    "virion_dt = pd.read_csv(virion_count_file, sep = \"\\t\", names=['contig', 'virion_hit_count'], skiprows = 1)\n",
    "\n",
    "rep_dt = pd.read_csv(rep_count_file, sep = \"\\t\", names=['contig', 'rep_hit_count'], skiprows = 1)\n",
    "\n",
    "\n",
    "merge_dt = pd.merge(virion_dt, rep_dt, on = 'contig', how = 'outer')\n",
    "\n",
    "merge_dt = merge_dt.fillna(0)\n",
    "\n",
    "merge_dt['total_hit_count'] = merge_dt['virion_hit_count'] + merge_dt['rep_hit_count']\n",
    "\n"
   ]
  },
  {
   "cell_type": "code",
   "execution_count": 18,
   "metadata": {},
   "outputs": [],
   "source": [
    "if hallmark_type == 'virion':\n",
    "    contigs_w_min_hall = merge_dt.query(\"virion_hit_count >= @hallmark_count\")['contig']\n",
    "else:\n",
    "    contigs_w_min_hall = merge_dt.query(\"total_hit_count >= @hallmark_count\")['contig']"
   ]
  },
  {
   "cell_type": "code",
   "execution_count": null,
   "metadata": {},
   "outputs": [],
   "source": [
    "repdt = pd.Dat"
   ]
  }
 ],
 "metadata": {
  "kernelspec": {
   "display_name": "ct2_dev",
   "language": "python",
   "name": "python3"
  },
  "language_info": {
   "codemirror_mode": {
    "name": "ipython",
    "version": 3
   },
   "file_extension": ".py",
   "mimetype": "text/x-python",
   "name": "python",
   "nbconvert_exporter": "python",
   "pygments_lexer": "ipython3",
   "version": "3.11.4"
  },
  "orig_nbformat": 4
 },
 "nbformat": 4,
 "nbformat_minor": 2
}
