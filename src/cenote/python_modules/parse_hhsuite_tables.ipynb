{
 "cells": [
  {
   "cell_type": "code",
   "execution_count": 1,
   "metadata": {},
   "outputs": [],
   "source": [
    "import os\n",
    "import sys\n",
    "from io import StringIO\n",
    "import pandas as pd"
   ]
  },
  {
   "cell_type": "code",
   "execution_count": 3,
   "metadata": {},
   "outputs": [],
   "source": [
    "hhresult_file = \"/Users/michaeltisza/mike_tisza/sandbox/test_pyrgv1i/ct2_tmp/hhpred/AA_files/all_AA_seqs.no_phrogs.part_007.out.hhr\""
   ]
  },
  {
   "cell_type": "code",
   "execution_count": 12,
   "metadata": {},
   "outputs": [
    {
     "name": "stdout",
     "output_type": "stream",
     "text": [
      "test_pyrgv1i_2_1 PF00519.17 Papillomavirus helicase Probab=99.94\n",
      "test_pyrgv1i_2_1 PF00799.20 Geminivirus Rep catalytic domain Probab=99.58\n",
      "test_pyrgv1i_2_1 PF02407.16 Putative viral replication protein Probab=99.42\n",
      "test_pyrgv1i_2_1 PF01057.17 Parvovirus non-structural protein NS1 Probab=97.96\n",
      "test_pyrgv1i_2_1 PF05496.12 Holliday junction DNA helicase RuvB P-loop domain Probab=97.16\n",
      "test_pyrgv1i_2_1 PF05272.11 Virulence-associated protein E Probab=97.11\n",
      "test_pyrgv1i_2_1 PF00493.23 MCM P-loop domain Probab=97.06\n",
      "test_pyrgv1i_2_1 PF00910.22 RNA helicase Probab=96.88\n",
      "test_pyrgv1i_2_1 PF03969.16 AFG1-like ATPase Probab=96.76\n",
      "test_pyrgv1i_2_1 PF14532.6 Sigma-54 interaction domain Probab=96.69\n"
     ]
    }
   ],
   "source": [
    "with open(hhresult_file, 'r') as hrh:\n",
    "    for line in hrh:\n",
    "        if line.startswith('Query         '):\n",
    "            gene_name = line.strip('Query         ').split(' ')[0]\n",
    "            #print(gene_name)\n",
    "        if line.startswith('>'):\n",
    "            full_desc = line.rstrip('\\n').strip('>')\n",
    "            #print(full_desc.split(' ; '))\n",
    "            full_stats = next(hrh, '').strip()\n",
    "            #print(full_stats.split('  '))\n",
    "            print(gene_name, full_desc.split(' ; ')[0], full_desc.split(' ; ')[2], full_stats.split('  ')[0])"
   ]
  }
 ],
 "metadata": {
  "kernelspec": {
   "display_name": "pyrodigal",
   "language": "python",
   "name": "python3"
  },
  "language_info": {
   "codemirror_mode": {
    "name": "ipython",
    "version": 3
   },
   "file_extension": ".py",
   "mimetype": "text/x-python",
   "name": "python",
   "nbconvert_exporter": "python",
   "pygments_lexer": "ipython3",
   "version": "3.10.13"
  }
 },
 "nbformat": 4,
 "nbformat_minor": 2
}
