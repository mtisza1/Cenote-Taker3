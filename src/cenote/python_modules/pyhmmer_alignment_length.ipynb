{
 "cells": [
  {
   "cell_type": "code",
   "execution_count": 1,
   "metadata": {},
   "outputs": [],
   "source": [
    "import subprocess\n",
    "import os\n",
    "import sys\n",
    "import pyhmmer\n",
    "from pyhmmer import hmmscan as hmmscan\n",
    "import pandas as pd\n",
    "import multiprocessing.pool\n",
    "import math\n",
    "import re\n",
    "import time\n",
    "import matplotlib.pyplot as plt\n",
    "import numpy as np"
   ]
  },
  {
   "cell_type": "code",
   "execution_count": 29,
   "metadata": {},
   "outputs": [],
   "source": [
    "input_dir = \"/Users/michaeltisza/mike_tisza/sandbox/hg_split\"\n",
    "\n",
    "out_dir = \"/Users/michaeltisza/mike_tisza/sandbox/hg_split/out_human\"\n",
    "\n",
    "which_DB = \"/Users/michaeltisza/mike_tisza/sandbox/compiled_hmms/new_RDRPs_only1.h3m\"\n",
    "\n",
    "CPUcount = 10\n",
    "\n",
    "evalue_cut = 0.1\n",
    "\n",
    "evalue_cut = float(evalue_cut)\n",
    "\n",
    "if not os.path.isdir(out_dir):\n",
    "    os.makedirs(out_dir)"
   ]
  },
  {
   "cell_type": "code",
   "execution_count": 30,
   "metadata": {},
   "outputs": [],
   "source": [
    "def hmmscanner(seqs):\n",
    "    scanout = list(hmmscan(pyhmmer.easel.SequenceFile(seqs, digital=True), pyhmmer.plan7.HMMFile(which_DB)))\n",
    "    return scanout"
   ]
  },
  {
   "cell_type": "code",
   "execution_count": 31,
   "metadata": {},
   "outputs": [],
   "source": [
    "splitAA_list = []\n",
    "for splitAA in os.listdir(input_dir):\n",
    "    if splitAA.endswith('.faa'):\n",
    "        f = os.path.join(input_dir, splitAA)\n",
    "\n",
    "        if os.path.isfile(f) and os.path.getsize(f) > 0:\n",
    "            splitAA_list.append(f)\n",
    "\n",
    "if not splitAA_list:\n",
    "    print(\"no files found for pyhmmer in \" + str(input_dir))\n",
    "    exit"
   ]
  },
  {
   "cell_type": "code",
   "execution_count": 32,
   "metadata": {},
   "outputs": [],
   "source": [
    "hmm_lengths = {}\n",
    "with pyhmmer.plan7.HMMFile(which_DB) as hmm_file:\n",
    "    for hmm in hmm_file:\n",
    "        hmm_lengths[hmm.name.decode()] = len(hmm.consensus)"
   ]
  },
  {
   "cell_type": "code",
   "execution_count": 33,
   "metadata": {},
   "outputs": [],
   "source": [
    "hmmscan_list = []\n",
    "with multiprocessing.pool.ThreadPool(int(CPUcount)) as pool:\n",
    "    for alignments in pool.map(hmmscanner, splitAA_list):\n",
    "        for model in alignments:\n",
    "            quer1 = model.query_name.decode()\n",
    "            pos = quer1.rfind(\"_\")\n",
    "            contig = quer1[:pos]\n",
    "            for hit in model:\n",
    "                target_name = hit.name.decode()\n",
    "                target_acc = hit.accession\n",
    "                full_seq_evalue = hit.evalue\n",
    "                seq_pvalue = hit.pvalue      \n",
    "                n_aligned_positions = len(\n",
    "                    hit.best_domain.alignment.hmm_sequence\n",
    "                ) - hit.best_domain.alignment.hmm_sequence.count(\".\")\n",
    "                hmm_coverage = (\n",
    "                    n_aligned_positions / hmm_lengths[hit.best_domain.alignment.hmm_name.decode()]\n",
    "                )\n",
    "                \n",
    "                hmmscan_list.append([quer1, contig, target_name, full_seq_evalue, seq_pvalue, \n",
    "                                     n_aligned_positions, hmm_coverage])\n",
    "\n",
    "hmmscan_pools_df = pd.DataFrame(hmmscan_list, columns=[\"ORFquery\", \"contig\", \"target\", \"evalue\", \n",
    "                                                       \"pvalue\", \"n_aligned_positions\", \"hmm_coverage\"])\\\n",
    "    .sort_values('evalue').drop_duplicates('ORFquery').query(\"evalue <= @evalue_cut\")"
   ]
  },
  {
   "cell_type": "code",
   "execution_count": 34,
   "metadata": {},
   "outputs": [
    {
     "name": "stdout",
     "output_type": "stream",
     "text": [
      "[<matplotlib.lines.Line2D object at 0x17ca5e510>]\n"
     ]
    },
    {
     "data": {
      "image/png": "[encoded data removed]",
      "text/plain": [
       "<Figure size 640x480 with 1 Axes>"
      ]
     },
     "metadata": {},
     "output_type": "display_data"
    }
   ],
   "source": [
    "checkp = plt.plot(-np.log10(hmmscan_pools_df['evalue']), hmmscan_pools_df['hmm_coverage'], 'o', ms=0.6)\n",
    "\n",
    "print(checkp)"
   ]
  },
  {
   "cell_type": "code",
   "execution_count": 35,
   "metadata": {},
   "outputs": [
    {
     "data": {
      "text/html": [
       "<div>\n",
       "<style scoped>\n",
       "    .dataframe tbody tr th:only-of-type {\n",
       "        vertical-align: middle;\n",
       "    }\n",
       "\n",
       "    .dataframe tbody tr th {\n",
       "        vertical-align: top;\n",
       "    }\n",
       "\n",
       "    .dataframe thead th {\n",
       "        text-align: right;\n",
       "    }\n",
       "</style>\n",
       "<table border=\"1\" class=\"dataframe\">\n",
       "  <thead>\n",
       "    <tr style=\"text-align: right;\">\n",
       "      <th></th>\n",
       "      <th>ORFquery</th>\n",
       "      <th>contig</th>\n",
       "      <th>target</th>\n",
       "      <th>evalue</th>\n",
       "      <th>pvalue</th>\n",
       "      <th>n_aligned_positions</th>\n",
       "      <th>hmm_coverage</th>\n",
       "    </tr>\n",
       "  </thead>\n",
       "  <tbody>\n",
       "  </tbody>\n",
       "</table>\n",
       "</div>"
      ],
      "text/plain": [
       "Empty DataFrame\n",
       "Columns: [ORFquery, contig, target, evalue, pvalue, n_aligned_positions, hmm_coverage]\n",
       "Index: []"
      ]
     },
     "execution_count": 35,
     "metadata": {},
     "output_type": "execute_result"
    }
   ],
   "source": [
    "hmmscan_pools_df.query(\"hmm_coverage > 0.75 & evalue < 1e-4\")\n"
   ]
  },
  {
   "cell_type": "code",
   "execution_count": 9,
   "metadata": {},
   "outputs": [
    {
     "data": {
      "text/html": [
       "<div>\n",
       "<style scoped>\n",
       "    .dataframe tbody tr th:only-of-type {\n",
       "        vertical-align: middle;\n",
       "    }\n",
       "\n",
       "    .dataframe tbody tr th {\n",
       "        vertical-align: top;\n",
       "    }\n",
       "\n",
       "    .dataframe thead th {\n",
       "        text-align: right;\n",
       "    }\n",
       "</style>\n",
       "<table border=\"1\" class=\"dataframe\">\n",
       "  <thead>\n",
       "    <tr style=\"text-align: right;\">\n",
       "      <th></th>\n",
       "      <th>ORFquery</th>\n",
       "      <th>contig</th>\n",
       "      <th>target</th>\n",
       "      <th>evalue</th>\n",
       "      <th>pvalue</th>\n",
       "      <th>n_aligned_positions</th>\n",
       "      <th>hmm_coverage</th>\n",
       "    </tr>\n",
       "  </thead>\n",
       "  <tbody>\n",
       "  </tbody>\n",
       "</table>\n",
       "</div>"
      ],
      "text/plain": [
       "Empty DataFrame\n",
       "Columns: [ORFquery, contig, target, evalue, pvalue, n_aligned_positions, hmm_coverage]\n",
       "Index: []"
      ]
     },
     "execution_count": 9,
     "metadata": {},
     "output_type": "execute_result"
    }
   ],
   "source": [
    "hmmscan_pools_df.query(\"evalue < 1e-8\")\n"
   ]
  }
 ],
 "metadata": {
  "kernelspec": {
   "display_name": "ct2_dev",
   "language": "python",
   "name": "python3"
  },
  "language_info": {
   "codemirror_mode": {
    "name": "ipython",
    "version": 3
   },
   "file_extension": ".py",
   "mimetype": "text/x-python",
   "name": "python",
   "nbconvert_exporter": "python",
   "pygments_lexer": "ipython3",
   "version": "3.11.4"
  },
  "orig_nbformat": 4
 },
 "nbformat": 4,
 "nbformat_minor": 2
}
