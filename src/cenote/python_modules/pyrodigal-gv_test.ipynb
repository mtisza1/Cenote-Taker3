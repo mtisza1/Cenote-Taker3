{
 "cells": [
  {
   "cell_type": "code",
   "execution_count": 1,
   "metadata": {},
   "outputs": [],
   "source": [
    "from Bio import SeqIO\n",
    "from Bio.Seq import Seq\n",
    "from Bio.SeqRecord import SeqRecord\n",
    "from Bio.SeqFeature import SeqFeature, FeatureLocation\n",
    "import subprocess\n",
    "import os\n",
    "import sys\n",
    "import pyrodigal\n",
    "import pyrodigal_gv\n",
    "import multiprocessing.pool\n",
    "import math\n",
    "import re\n",
    "import time"
   ]
  },
  {
   "cell_type": "code",
   "execution_count": 4,
   "metadata": {},
   "outputs": [],
   "source": [
    "single_fasta = \"/Users/michaeltisza/mike_tisza/sandbox/first_100_uhgv_votus.fna\"\n",
    "\n",
    "prod_single_out = \"/Users/michaeltisza/mike_tisza/sandbox/pyrodigal_tests/prod_single_out.faa\"\n",
    "\n",
    "prod_gv_single_out = \"/Users/michaeltisza/mike_tisza/sandbox/pyrodigal_tests/single_out.prod_gv.faa\"\n",
    "\n",
    "prod_thread_out = \"/Users/michaeltisza/mike_tisza/sandbox/pyrodigal_tests/thread_out.prod.faa\"\n",
    "\n",
    "gff_out = \"/Users/michaeltisza/mike_tisza/sandbox/pyrodigal_tests/pyrodigal_gv.gff\"\n"
   ]
  },
  {
   "cell_type": "code",
   "execution_count": 32,
   "metadata": {},
   "outputs": [
    {
     "name": "stdout",
     "output_type": "stream",
     "text": [
      "CPU times: user 35.2 s, sys: 1.35 s, total: 36.5 s\n",
      "Wall time: 36.9 s\n"
     ]
    }
   ],
   "source": [
    "%%time\n",
    "\n",
    "orf_finder = pyrodigal.GeneFinder(meta = True)\n",
    "\n",
    "\n",
    "for record in SeqIO.parse(single_fasta, \"fasta\"):\n",
    "    for i, pred in enumerate(orf_finder.find_genes(bytes(record.seq))):\n",
    "        print(f\">{record.id}_{i+1}\", file = open(prod_single_out, \"a\"))\n",
    "        print(pred.translate(), file = open(prod_single_out, \"a\"))"
   ]
  },
  {
   "cell_type": "code",
   "execution_count": 29,
   "metadata": {},
   "outputs": [
    {
     "name": "stdout",
     "output_type": "stream",
     "text": [
      "CPU times: user 36.6 s, sys: 6.69 s, total: 43.3 s\n",
      "Wall time: 45.3 s\n"
     ]
    }
   ],
   "source": [
    "%%time\n",
    "\n",
    "orf_finder = pyrodigal_gv.ViralGeneFinder(meta = True)\n",
    "\n",
    "\n",
    "for record in SeqIO.parse(single_fasta, \"fasta\"):\n",
    "    for i, pred in enumerate(orf_finder.find_genes(bytes(record.seq))):\n",
    "        print(f\">{record.id}_{i+1}\", file = open(prod_gv_single_out, \"a\"))\n",
    "        print(pred.translate(), file = open(prod_gv_single_out, \"a\"))"
   ]
  },
  {
   "cell_type": "code",
   "execution_count": null,
   "metadata": {},
   "outputs": [],
   "source": [
    "%%time\n",
    "\n",
    "records = SeqIO.parse(single_fasta, \"fasta\")\n",
    "\n",
    "orf_finder = pyrodigal.GeneFinder(meta = True)\n",
    "\n",
    "with multiprocessing.pool.ThreadPool() as pool:\n",
    "    for record in records:\n",
    "        predictions = pool.map(orf_finder.find_genes, str(record.seq))"
   ]
  },
  {
   "cell_type": "code",
   "execution_count": 8,
   "metadata": {},
   "outputs": [
    {
     "name": "stdout",
     "output_type": "stream",
     "text": [
      "CPU times: user 21.4 s, sys: 147 ms, total: 21.5 s\n",
      "Wall time: 2.55 s\n"
     ]
    }
   ],
   "source": [
    "%%time\n",
    "\n",
    "records = SeqIO.parse(single_fasta, \"fasta\")\n",
    "\n",
    "orf_finder = pyrodigal_gv.ViralGeneFinder(meta = True)\n",
    "\n",
    "def _find_genes(record):\n",
    "    genes = orf_finder.find_genes(str(record.seq))\n",
    "    return (record.id, genes)\n",
    "\n",
    "with multiprocessing.pool.ThreadPool() as pool:\n",
    "    with open(prod_thread_out, \"w\") as dst:\n",
    "        with open(gff_out, \"w\") as dgff:\n",
    "            for record_id, genes in pool.imap(_find_genes, records):\n",
    "                genes.write_translations(dst, sequence_id=record_id)\n",
    "                genes.write_gff(dgff, sequence_id=record_id)\n"
   ]
  },
  {
   "cell_type": "code",
   "execution_count": 9,
   "metadata": {},
   "outputs": [
    {
     "name": "stdout",
     "output_type": "stream",
     "text": [
      "CPU times: user 17.9 s, sys: 124 ms, total: 18 s\n",
      "Wall time: 2.15 s\n"
     ]
    }
   ],
   "source": [
    "%%time\n",
    "\n",
    "records = SeqIO.parse(single_fasta, \"fasta\")\n",
    "\n",
    "orf_finder = pyrodigal.GeneFinder(meta = True)\n",
    "\n",
    "def _find_genes(record):\n",
    "    genes = orf_finder.find_genes(str(record.seq))\n",
    "    return (record.id, genes)\n",
    "\n",
    "with multiprocessing.pool.ThreadPool() as pool:\n",
    "    with open(prod_thread_out, \"w\") as dst:\n",
    "        with open(gff_out, \"w\") as dgff:\n",
    "            for record_id, genes in pool.imap(_find_genes, records):\n",
    "                genes.write_translations(dst, sequence_id=record_id)\n",
    "                genes.write_gff(dgff, sequence_id=record_id)"
   ]
  },
  {
   "cell_type": "code",
   "execution_count": 43,
   "metadata": {},
   "outputs": [
    {
     "name": "stdout",
     "output_type": "stream",
     "text": [
      "CPU times: user 50.1 s, sys: 276 ms, total: 50.4 s\n",
      "Wall time: 7.9 s\n"
     ]
    }
   ],
   "source": [
    "%%time\n",
    "\n",
    "records = SeqIO.parse(single_fasta, \"fasta\")\n",
    "\n",
    "orf_finder = pyrodigal.GeneFinder(meta = True)\n",
    "\n",
    "def _find_genes(record):\n",
    "    genes = orf_finder.find_genes(str(record.seq))\n",
    "    return (record.id, genes)\n",
    "\n",
    "with multiprocessing.pool.ThreadPool() as pool:\n",
    "    with open(prod_thread_out, \"w\") as dst:\n",
    "        for record_id, genes in pool.imap(_find_genes, records):\n",
    "            genes.write_translations(dst, sequence_id=record_id)\n",
    "#        predictions = pool.map(orf_finder.find_genes, records.seq)\n",
    "#        for record_id, genes in predictions:\n",
    "#            genes.write_genes(dst, sequence_id=record.id)"
   ]
  },
  {
   "cell_type": "code",
   "execution_count": null,
   "metadata": {},
   "outputs": [],
   "source": [
    "for record in SeqIO.parse(single_fasta, \"fasta\"):\n",
    "    print(record)"
   ]
  },
  {
   "cell_type": "code",
   "execution_count": 39,
   "metadata": {},
   "outputs": [
    {
     "name": "stdout",
     "output_type": "stream",
     "text": [
      "<Bio.SeqIO.FastaIO.FastaIterator object at 0x7fe9885076a0>\n"
     ]
    }
   ],
   "source": [
    "print(SeqIO.parse(single_fasta, \"fasta\"))"
   ]
  }
 ],
 "metadata": {
  "kernelspec": {
   "display_name": "pyrodigal",
   "language": "python",
   "name": "python3"
  },
  "language_info": {
   "codemirror_mode": {
    "name": "ipython",
    "version": 3
   },
   "file_extension": ".py",
   "mimetype": "text/x-python",
   "name": "python",
   "nbconvert_exporter": "python",
   "pygments_lexer": "ipython3",
   "version": "3.10.13"
  }
 },
 "nbformat": 4,
 "nbformat_minor": 2
}
